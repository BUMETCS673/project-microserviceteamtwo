{
 "cells": [
  {
   "cell_type": "code",
   "execution_count": 2,
   "id": "8b7fd76a",
   "metadata": {},
   "outputs": [],
   "source": [
    "import requests\n",
    "import json"
   ]
  },
  {
   "cell_type": "code",
   "execution_count": 4,
   "id": "1793a95a",
   "metadata": {},
   "outputs": [],
   "source": [
    "# Project Create \n",
    "promanager = \"127.0.0.1:82\""
   ]
  },
  {
   "cell_type": "code",
   "execution_count": 3,
   "id": "b705557a",
   "metadata": {},
   "outputs": [],
   "source": [
    "data = {'projects':  [ {'projectid': 'project003',\n",
    "   'projectname': 'W1A206-8286-42A-SN2109F9W',\n",
    "   'userid': 'user1',\n",
    "   'taskid': 24,\n",
    "   'description':\"test 2\",\n",
    "   'created_on': 1622548800,\n",
    "   'updated_on': 1622548800,\n",
    "   'state': 'operating',\n",
    "   'type': 'development'},\n",
    "  {'projectid': 'project005',\n",
    "   'projectname': 'W1A206-8286-42A-SN2109F9W',\n",
    "   'userid': 'user1',\n",
    "   'taskid': 24,\n",
    "   'description':\"test 2\",\n",
    "   'created_on': 1622548800,\n",
    "   'updated_on': 1622548800,\n",
    "   'state': 'operating',\n",
    "   'type': 'development'}\n",
    "  ]\n",
    " }\n",
    "# data"
   ]
  },
  {
   "cell_type": "code",
   "execution_count": 4,
   "id": "984e908f",
   "metadata": {},
   "outputs": [
    {
     "name": "stdout",
     "output_type": "stream",
     "text": [
      "404\n"
     ]
    }
   ],
   "source": [
    "def sendreportcompute(data):\n",
    "    headers={\"Content-Type\":\"application/json\"}\n",
    "    r= requests.post(url=\"http://\"+promanager+\"/apiv1/project/addprojects\",data=json.dumps(data),headers=headers)\n",
    "    print(r.status_code)\n",
    "\n",
    "sendreportcompute(data)"
   ]
  },
  {
   "cell_type": "code",
   "execution_count": 10,
   "id": "9867629a",
   "metadata": {},
   "outputs": [
    {
     "name": "stdout",
     "output_type": "stream",
     "text": [
      "200\n"
     ]
    }
   ],
   "source": [
    "def sendreportcompute(data):\n",
    "    headers={\"Content-Type\":\"application/json\"}\n",
    "    r= requests.post(url=\"http://\"+promanager+\"/apiv1/project/addprojects\",data=json.dumps(data),headers=headers)\n",
    "    print(r.status_code)\n",
    "\n",
    "\n",
    "update_project_data(update_data)"
   ]
  },
  {
   "cell_type": "code",
   "execution_count": 6,
   "id": "7847bbc3",
   "metadata": {},
   "outputs": [],
   "source": [
    "promanager = \"127.0.0.1:82\""
   ]
  },
  {
   "cell_type": "code",
   "execution_count": 7,
   "id": "05045eea",
   "metadata": {},
   "outputs": [],
   "source": [
    "data = {'tasks':  [ {'task_id': 'task_7',\n",
    "   'project_id': 'proj_001',\n",
    "   'task_name': 'Task 7 Test',\n",
    "   'description': 'Task 3 Test',\n",
    "   'status':\"To Do\",\n",
    "   'priority': 'Low',\n",
    "   'assigned_user_id': 1,\n",
    "   'due_date': 1749477368,\n",
    "   'created_on': 1717941368,  \n",
    "   'updated_on': 1717941368,}\n",
    "  \n",
    "  ]\n",
    " }\n",
    "# data\n"
   ]
  },
  {
   "cell_type": "code",
   "execution_count": 9,
   "id": "d284d2d7",
   "metadata": {},
   "outputs": [
    {
     "name": "stdout",
     "output_type": "stream",
     "text": [
      "200\n"
     ]
    }
   ],
   "source": [
    "# Project Edit\n",
    "update_data = {\n",
    "    \"projectid\": \"project005\",\n",
    "    \"projectname\": \"W1A206-8286-42A-SN2109F9W\",\n",
    "    \"userid\": \"user1\",\n",
    "    \"taskid\": 24,\n",
    "    \"description\": \"new updated data\",\n",
    "    \"updated_on\": 1622549800,\n",
    "    \"state\": \"operating\",\n",
    "    \"type\": \"development\",\n",
    "}\n",
    "\n",
    "\n",
    "def update_project_data(data):\n",
    "    headers = {\"Content-Type\": \"application/json\"}\n",
    "    r = requests.post(\n",
    "        url=\"http://\" + promanager + \"/apiv1/project/editProject\",\n",
    "        data=json.dumps(data),\n",
    "        headers=headers,\n",
    "    )\n",
    "    print(r.status_code)\n",
    "\n",
    "\n",
    "update_project_data(update_data)"
   ]
  },
  {
   "cell_type": "code",
   "execution_count": 8,
   "id": "b880d5a1",
   "metadata": {},
   "outputs": [
    {
     "ename": "NameError",
     "evalue": "name 'capacitymgmt' is not defined",
     "output_type": "error",
     "traceback": [
      "\u001b[0;31m---------------------------------------------------------------------------\u001b[0m",
      "\u001b[0;31mNameError\u001b[0m                                 Traceback (most recent call last)",
      "Cell \u001b[0;32mIn[8], line 6\u001b[0m\n\u001b[1;32m      3\u001b[0m     r\u001b[38;5;241m=\u001b[39m requests\u001b[38;5;241m.\u001b[39mpost(url\u001b[38;5;241m=\u001b[39m\u001b[38;5;124m\"\u001b[39m\u001b[38;5;124mhttp://\u001b[39m\u001b[38;5;124m\"\u001b[39m\u001b[38;5;241m+\u001b[39mcapacitymgmt\u001b[38;5;241m+\u001b[39m\u001b[38;5;124m\"\u001b[39m\u001b[38;5;124m/apiv1/task/project/addtasks\u001b[39m\u001b[38;5;124m\"\u001b[39m,data\u001b[38;5;241m=\u001b[39mjson\u001b[38;5;241m.\u001b[39mdumps(data),headers\u001b[38;5;241m=\u001b[39mheaders)\n\u001b[1;32m      4\u001b[0m     \u001b[38;5;28mprint\u001b[39m(r\u001b[38;5;241m.\u001b[39mstatus_code)\n\u001b[0;32m----> 6\u001b[0m sendProjectTaskreport(data)\n",
      "Cell \u001b[0;32mIn[8], line 3\u001b[0m, in \u001b[0;36msendProjectTaskreport\u001b[0;34m(data)\u001b[0m\n\u001b[1;32m      1\u001b[0m \u001b[38;5;28;01mdef\u001b[39;00m \u001b[38;5;21msendProjectTaskreport\u001b[39m(data):\n\u001b[1;32m      2\u001b[0m     headers\u001b[38;5;241m=\u001b[39m{\u001b[38;5;124m\"\u001b[39m\u001b[38;5;124mContent-Type\u001b[39m\u001b[38;5;124m\"\u001b[39m:\u001b[38;5;124m\"\u001b[39m\u001b[38;5;124mapplication/json\u001b[39m\u001b[38;5;124m\"\u001b[39m}\n\u001b[0;32m----> 3\u001b[0m     r\u001b[38;5;241m=\u001b[39m requests\u001b[38;5;241m.\u001b[39mpost(url\u001b[38;5;241m=\u001b[39m\u001b[38;5;124m\"\u001b[39m\u001b[38;5;124mhttp://\u001b[39m\u001b[38;5;124m\"\u001b[39m\u001b[38;5;241m+\u001b[39mcapacitymgmt\u001b[38;5;241m+\u001b[39m\u001b[38;5;124m\"\u001b[39m\u001b[38;5;124m/apiv1/task/project/addtasks\u001b[39m\u001b[38;5;124m\"\u001b[39m,data\u001b[38;5;241m=\u001b[39mjson\u001b[38;5;241m.\u001b[39mdumps(data),headers\u001b[38;5;241m=\u001b[39mheaders)\n\u001b[1;32m      4\u001b[0m     \u001b[38;5;28mprint\u001b[39m(r\u001b[38;5;241m.\u001b[39mstatus_code)\n",
      "\u001b[0;31mNameError\u001b[0m: name 'capacitymgmt' is not defined"
     ]
    }
   ],
   "source": [
    "def sendProjectTaskreport(data):\n",
    "    headers={\"Content-Type\":\"application/json\"}\n",
    "    r= requests.post(url=\"http://\"+promanager+\"/apiv1/task/project/addtasks\",data=json.dumps(data),headers=headers)\n",
    "    print(r.status_code)\n",
    "\n",
    "sendProjectTaskreport(data)"
   ]
  },
  {
   "cell_type": "markdown",
   "id": "39d203a3",
   "metadata": {},
   "source": [
    "#### Method: findAllUserProjects\n",
    "\n",
    "Retrieves a list of projects associated with a specific user, either as an owner or a member.\n",
    "\n",
    "**Parameters:**\n",
    "- `user_id`: The ID of the user for whom the projects are to be retrieved.\n",
    "\n",
    "**Returns:**\n",
    "- A list of Object arrays, each representing a project with the following details:\n",
    "  - Project ID\n",
    "  - Project name\n",
    "  - Project description\n",
    "  - Project owner's name\n",
    "  - Project owner's email\n",
    "  - Project creation date : Timestamp\n",
    "  - Project last updated date : Timestamp\n",
    "  - Project status\n",
    "  - Project type\n",
    "  - Project active status\n",
    "  \n",
    "  If an exception occurs during the query execution, an empty list is returned.\n"
   ]
  },
  {
   "cell_type": "code",
   "execution_count": 30,
   "id": "2587e86c",
   "metadata": {},
   "outputs": [
    {
     "name": "stdout",
     "output_type": "stream",
     "text": [
      "{'user_projects': [['proj_001', 'Project Alpha', 'This is a test project.', 'User One', 'user1@example.com', 1622548800, 1622645200, 'ongoing', 'development', True]]}\n"
     ]
    }
   ],
   "source": [
    "import requests\n",
    "\n",
    "promanager = \"127.0.0.1:82\"\n",
    "\n",
    "def getAllUserProjects(user_id):\n",
    "  \n",
    "    url = f\"http://{promanager}/apiv1/user/getalluserprojects/{user_id}\"\n",
    "  \n",
    "    headers = {\"Content-Type\": \"application/json\"}\n",
    "    r = requests.get(url, headers=headers)\n",
    "    # print(r.status_code)\n",
    "    if r.status_code == 200:\n",
    "        print(r.json())\n",
    "    else:\n",
    "        print(f\"Error: {r.status_code}, {r.text}\")\n",
    "\n",
    "user_id = \"3\"  # Ensure user_id is a string for URL concatenation\n",
    "getAllUserProjects(user_id)"
   ]
  },
  {
   "cell_type": "code",
   "execution_count": null,
   "id": "71992a76",
   "metadata": {},
   "outputs": [],
   "source": []
  },
  {
   "cell_type": "code",
   "execution_count": null,
   "id": "a2de7afc",
   "metadata": {},
   "outputs": [],
   "source": []
  }
 ],
 "metadata": {
  "kernelspec": {
   "display_name": "Python 3 (ipykernel)",
   "language": "python",
   "name": "python3"
  },
  "language_info": {
   "codemirror_mode": {
    "name": "ipython",
    "version": 3
   },
   "file_extension": ".py",
   "mimetype": "text/x-python",
   "name": "python",
   "nbconvert_exporter": "python",
   "pygments_lexer": "ipython3",
   "version": "3.11.5"
  }
 },
 "nbformat": 4,
 "nbformat_minor": 5
}
