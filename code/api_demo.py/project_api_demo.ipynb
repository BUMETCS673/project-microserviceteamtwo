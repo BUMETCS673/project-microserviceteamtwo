{
 "cells": [
  {
   "cell_type": "code",
   "execution_count": 44,
   "id": "8b7fd76a",
   "metadata": {},
   "outputs": [],
   "source": [
    "import requests\n",
    "import json"
   ]
  },
  {
   "cell_type": "code",
   "execution_count": 67,
   "id": "1793a95a",
   "metadata": {},
   "outputs": [],
   "source": [
    "# Project Create \n",
    "promanager = \"127.0.0.1:82\""
   ]
  },
  {
   "cell_type": "code",
   "execution_count": 41,
   "id": "79e3ec3b",
   "metadata": {},
   "outputs": [
    {
     "name": "stdout",
     "output_type": "stream",
     "text": [
      "{'projects': [{'projectname': 'Project Alpha', 'description': 'This is a test 1 project.', 'owner_id': 1, 'created_on': 1718478356, 'updated_on': 1718478356, 'status': 'ongoing', 'type': 'development', 'active': True, 'projectid': 'proj_001'}, {'projectname': 'Project Beta', 'description': 'This is a test 2 project.', 'owner_id': 1, 'created_on': 1718478356, 'updated_on': 1718478356, 'status': 'ongoing', 'type': 'development', 'active': True, 'projectid': 'proj_002'}, {'projectname': 'Proeject Gamma', 'description': 'This is a test 3 project.', 'owner_id': 2, 'created_on': 1718478356, 'updated_on': 1718478356, 'status': 'ongoing', 'type': 'development', 'active': True, 'projectid': 'proj_003'}, {'projectname': 'Project Theta', 'description': 'This is a test 4 project.', 'owner_id': 2, 'created_on': 1718478356, 'updated_on': 1718478356, 'status': 'ongoing', 'type': 'development', 'active': True, 'projectid': 'proj_004'}]}\n"
     ]
    }
   ],
   "source": [
    "## Get All the Existing Projects\n",
    "# https://promanager-v1-b1f0addf3fcb.herokuapp.com\n",
    "\n",
    "import requests\n",
    "\n",
    "promanager = \"127.0.0.1:8080\"\n",
    "# promanager = \"promanager-v1-b1f0addf3fcb.herokuapp.com\"\n",
    "\n",
    "def getAllProjects():\n",
    "  \n",
    "    url = f\"http://{promanager}/apiv1/project/getallprojects\"\n",
    "  \n",
    "    headers = {\"Content-Type\": \"application/json\"}\n",
    "    r = requests.get(url, headers=headers)\n",
    "    # print(r.status_code)\n",
    "    if r.status_code == 200:\n",
    "        print(r.json())\n",
    "    else:\n",
    "        print(f\"Error: {r.status_code}, {r.text}\")\n",
    "\n",
    "# user_id = \"3\"  # Ensure user_id is a string for URL concatenation\n",
    "getAllProjects()"
   ]
  },
  {
   "cell_type": "code",
   "execution_count": null,
   "id": "a8095d0c",
   "metadata": {},
   "outputs": [],
   "source": []
  },
  {
   "cell_type": "code",
   "execution_count": 2,
   "id": "e29527a1",
   "metadata": {},
   "outputs": [
    {
     "name": "stdout",
     "output_type": "stream",
     "text": [
      "{'project': [{'updated_on': 1718478356, 'projectname': 'Project Alpha', 'owner_name': 'User One', 'project_id': 'proj_001', 'created_on': 1718478356, 'active': True, 'description': 'This is a test 1 project.', 'type': 'development', 'status': 'ongoing'}]}\n"
     ]
    }
   ],
   "source": [
    "import requests\n",
    "\n",
    "# promanager = \"127.0.0.1:8080\"\n",
    "promanager = \"promanager-v1-b1f0addf3fcb.herokuapp.com\"\n",
    "def getAllUserProjects(proj_id):\n",
    "  \n",
    "    url = f\"http://{promanager}/apiv1/project/getIdWiseProject/{proj_id}\"\n",
    "  \n",
    "    headers = {\"Content-Type\": \"application/json\"}\n",
    "    r = requests.get(url, headers=headers)\n",
    "    # print(r.status_code)\n",
    "    if r.status_code == 200:\n",
    "        print(r.json())\n",
    "    else:\n",
    "        print(f\"Error: {r.status_code}, {r.text}\")\n",
    "\n",
    "proj_id = \"proj_001\"  # Ensure user_id is a string for URL concatenation\n",
    "getAllUserProjects(proj_id)"
   ]
  },
  {
   "cell_type": "code",
   "execution_count": null,
   "id": "e06d4240",
   "metadata": {},
   "outputs": [],
   "source": []
  },
  {
   "cell_type": "code",
   "execution_count": 9,
   "id": "9dc559df",
   "metadata": {},
   "outputs": [],
   "source": [
    "## ADD Project New Project "
   ]
  },
  {
   "cell_type": "code",
   "execution_count": 70,
   "id": "b705557a",
   "metadata": {},
   "outputs": [],
   "source": [
    "data = {'projects':  [ \n",
    "  {'project_id': 'project005',\n",
    "   'projectname': 'Project 5 test for Edit',      \n",
    "   'description':\"This is Project 5 will be used for editing\",\n",
    "   'owner_id': int(1),\n",
    "   'created_on': 1718088484,\n",
    "   'updated_on': 1718088484,\n",
    "   'status': 'ongoing',\n",
    "   'type': 'development',\n",
    "   'active':True}\n",
    "   ,\n",
    "  {'project_id': 'project006',\n",
    "   'projectname': 'Project 6 test Safe Delete',      \n",
    "   'description':\"This is Project 5 will be safe for delete\",\n",
    "   'owner_id': int(1),\n",
    "   'created_on': 1718088484,\n",
    "   'updated_on': 1718088484,\n",
    "   'status': 'ongoing',\n",
    "   'type': 'development',\n",
    "   'active':True}\n",
    "  ]\n",
    " }\n",
    "# data"
   ]
  },
  {
   "cell_type": "code",
   "execution_count": 42,
   "id": "32d2d829",
   "metadata": {},
   "outputs": [
    {
     "data": {
      "text/plain": [
       "{'projects': [{'project_id': 'project005',\n",
       "   'projectname': 'Project 5 test for Edit',\n",
       "   'description': 'This is Project 5 will be used for editing',\n",
       "   'owner_id': 1,\n",
       "   'created_on': 1718088484,\n",
       "   'updated_on': 1718088484,\n",
       "   'status': 'ongoing',\n",
       "   'type': 'development',\n",
       "   'active': True}]}"
      ]
     },
     "execution_count": 42,
     "metadata": {},
     "output_type": "execute_result"
    }
   ],
   "source": [
    "data = {'projects':  [ \n",
    "  {'project_id': 'project005',\n",
    "   'projectname': 'Project 5 test for Edit',      \n",
    "   'description':\"This is Project 5 will be used for editing\",\n",
    "   'owner_id': int(1),\n",
    "   'created_on': 1718088484,\n",
    "   'updated_on': 1718088484,\n",
    "   'status': 'ongoing',\n",
    "   'type': 'development',\n",
    "   'active':True}\n",
    "  \n",
    "  ]\n",
    " }\n",
    "data"
   ]
  },
  {
   "cell_type": "code",
   "execution_count": 45,
   "id": "984e908f",
   "metadata": {},
   "outputs": [
    {
     "name": "stdout",
     "output_type": "stream",
     "text": [
      "200\n"
     ]
    }
   ],
   "source": [
    "\n",
    "promanager = \"127.0.0.1:8080\"\n",
    "def addNewProjects(data):\n",
    "    headers={\"Content-Type\":\"application/json\"}\n",
    "    r= requests.post(url=\"http://\"+promanager+\"/apiv1/project/addprojects/\",data=json.dumps(data),headers=headers)\n",
    "    print(r.status_code)\n",
    "\n",
    "addNewProjects(data)"
   ]
  },
  {
   "cell_type": "code",
   "execution_count": null,
   "id": "d2e59a36",
   "metadata": {},
   "outputs": [],
   "source": []
  },
  {
   "cell_type": "code",
   "execution_count": 73,
   "id": "3df048c2",
   "metadata": {},
   "outputs": [
    {
     "name": "stdout",
     "output_type": "stream",
     "text": [
      "200\n"
     ]
    }
   ],
   "source": [
    "# Project Edit\n",
    "update_data = {'project_id': 'project005',\n",
    "   'projectname': 'Project 5 test for Edit',      \n",
    "   'description':\"Edited the project\",\n",
    "   'owner_id': int(1),\n",
    "   'updated_on': 1718088484,\n",
    "   'status': 'ongoing',\n",
    "   'type': 'development'\n",
    "   }\n",
    "\n",
    "\n",
    "def update_project_data(data):\n",
    "    headers = {\"Content-Type\": \"application/json\"}\n",
    "    r = requests.post(\n",
    "        url=\"http://\" + promanager + \"/apiv1/project/editProject\",\n",
    "        data=json.dumps(data),\n",
    "        headers=headers,\n",
    "    )\n",
    "    print(r.status_code)\n",
    "\n",
    "\n",
    "update_project_data(update_data)"
   ]
  },
  {
   "cell_type": "code",
   "execution_count": 48,
   "id": "b3cfb3fe",
   "metadata": {},
   "outputs": [],
   "source": [
    "## Delete Project "
   ]
  },
  {
   "cell_type": "code",
   "execution_count": 76,
   "id": "db4d5fe4",
   "metadata": {},
   "outputs": [
    {
     "name": "stdout",
     "output_type": "stream",
     "text": [
      "Status Code: 200\n",
      "Project deleted successfully.\n"
     ]
    }
   ],
   "source": [
    "import requests\n",
    "\n",
    "def deleteProject(project_id):\n",
    "    headers = {\"Content-Type\": \"application/json\"}\n",
    "    url = f\"http://{promanager}/apiv1/project/deleteproject/{project_id}\"\n",
    "    r = requests.delete(url, headers=headers)\n",
    "    print(f\"Status Code: {r.status_code}\")\n",
    "    if r.status_code == 200:\n",
    "        print(\"Project deleted successfully.\")\n",
    "    else:\n",
    "        print(f\"Failed to delete project: {r.text}\")\n",
    "\n",
    "# Example usage\n",
    "project_id = \"project006\" \n",
    "deleteProject(project_id)"
   ]
  },
  {
   "cell_type": "code",
   "execution_count": 77,
   "id": "9867629a",
   "metadata": {},
   "outputs": [
    {
     "name": "stdout",
     "output_type": "stream",
     "text": [
      "Status Code: 200\n",
      "Project deleted successfully.\n"
     ]
    }
   ],
   "source": [
    "\n",
    "project_id = \"project005\"  # Replace with the actual project ID\n",
    "deleteProject(project_id)"
   ]
  },
  {
   "cell_type": "code",
   "execution_count": 61,
   "id": "6dcd5e1c",
   "metadata": {},
   "outputs": [],
   "source": [
    "# Getting all the tasks"
   ]
  },
  {
   "cell_type": "code",
   "execution_count": 89,
   "id": "108cea60",
   "metadata": {},
   "outputs": [
    {
     "name": "stdout",
     "output_type": "stream",
     "text": [
      "{'tasks': [{'task_name': 'Task 1 Create', 'projectname': 'Project Beta', 'assigned_user_name': 'User One', 'project_id': 'proj_002', 'due_date': 1622548800, 'description': 'Task description 2', 'task_id': 'task_2', 'priority': 'Medium', 'status': 'To Do'}, {'task_name': 'Task 10 Test', 'projectname': 'Project Beta', 'assigned_user_name': 'User Two', 'project_id': 'proj_002', 'due_date': 1717941368, 'description': 'Task 10 Test', 'task_id': 'task_10', 'priority': 'Low', 'status': 'To Do'}]}\n"
     ]
    }
   ],
   "source": [
    "import requests\n",
    "\n",
    "# promanager = \"127.0.0.1:8080\"\n",
    "promanager = \"promanager-v1-b1f0addf3fcb.herokuapp.com\"\n",
    "\n",
    "def getAllUserProjects(projectid):\n",
    "  \n",
    "    url = f\"http://{promanager}/apiv1/task/project/getalltasks/{projectid}\"\n",
    "  \n",
    "    headers = {\"Content-Type\": \"application/json\"}\n",
    "    r = requests.get(url, headers=headers)\n",
    "    # print(r.status_code)\n",
    "    if r.status_code == 200:\n",
    "        print(r.json())\n",
    "    else:\n",
    "        print(f\"Error: {r.status_code}, {r.text}\")\n",
    "\n",
    "proj_id = \"proj_002\"  # Ensure user_id is a string for URL concatenation\n",
    "getAllUserProjects(proj_id)"
   ]
  },
  {
   "cell_type": "code",
   "execution_count": 81,
   "id": "4f6ddfb7",
   "metadata": {},
   "outputs": [],
   "source": []
  },
  {
   "cell_type": "code",
   "execution_count": 82,
   "id": "7847bbc3",
   "metadata": {},
   "outputs": [],
   "source": [
    "\n",
    "import requests\n",
    "\n",
    "# promanager = \"127.0.0.1:8080\"\n",
    "promanager = \"promanager-v1-b1f0addf3fcb.herokuapp.com\""
   ]
  },
  {
   "cell_type": "code",
   "execution_count": 85,
   "id": "05045eea",
   "metadata": {},
   "outputs": [],
   "source": [
    "data = {'tasks':  [ {'task_id': 'task_10',\n",
    "   'project_id': 'proj_002',\n",
    "   'task_name': 'Task 10 Test',\n",
    "   'description': 'Task 10 Test',\n",
    "   'status':\"To Do\",\n",
    "   'priority': 'Low',\n",
    "   'assigned_user_id': 1,\n",
    "   'due_date': 1749477368,\n",
    "   'created_on': 1717941368,  \n",
    "   'updated_on': 1717941368,}\n",
    "  ]\n",
    " }"
   ]
  },
  {
   "cell_type": "code",
   "execution_count": 86,
   "id": "c618f45b",
   "metadata": {},
   "outputs": [
    {
     "name": "stdout",
     "output_type": "stream",
     "text": [
      "200\n"
     ]
    }
   ],
   "source": [
    "def sendProjectTaskreport(data):\n",
    "    headers={\"Content-Type\":\"application/json\"}\n",
    "    r= requests.post(url=\"http://\"+promanager+\"/apiv1/task/project/addtasks\",data=json.dumps(data),headers=headers)\n",
    "    print(r.status_code)\n",
    "\n",
    "sendProjectTaskreport(data)"
   ]
  },
  {
   "cell_type": "code",
   "execution_count": null,
   "id": "b880d5a1",
   "metadata": {},
   "outputs": [],
   "source": []
  },
  {
   "cell_type": "markdown",
   "id": "39d203a3",
   "metadata": {},
   "source": [
    "#### Method: findAllUserProjects\n",
    "\n",
    "Retrieves a list of projects associated with a specific user, either as an owner or a member.\n",
    "\n",
    "**Parameters:**\n",
    "- `user_id`: The ID of the user for whom the projects are to be retrieved.\n",
    "\n",
    "**Returns:**\n",
    "- A list of Object arrays, each representing a project with the following details:\n",
    "  - Project ID\n",
    "  - Project name\n",
    "  - Project description\n",
    "  - Project owner's name\n",
    "  - Project owner's email\n",
    "  - Project creation date : Timestamp\n",
    "  - Project last updated date : Timestamp\n",
    "  - Project status\n",
    "  - Project type\n",
    "  - Project active status\n",
    "  \n",
    "  If an exception occurs during the query execution, an empty list is returned.\n"
   ]
  },
  {
   "cell_type": "code",
   "execution_count": 90,
   "id": "2587e86c",
   "metadata": {},
   "outputs": [
    {
     "name": "stdout",
     "output_type": "stream",
     "text": [
      "{'user_projects': [{'updated_on': 1622645200, 'projectname': 'Project Alpha', 'owner_name': 'User One', 'project_id': 'proj_001', 'created_on': 1622548800, 'description': 'This is a test project.', 'active': True, 'type': 'development', 'email': 'user1@example.com', 'status': 'ongoing'}, {'updated_on': 1622645201, 'projectname': 'Project Beta', 'owner_name': 'User One', 'project_id': 'proj_002', 'created_on': 1622548801, 'description': 'This is a test project.', 'active': True, 'type': 'development', 'email': 'user1@example.com', 'status': 'ongoing'}, {'updated_on': 1622645201, 'projectname': 'Proeject Gamma', 'owner_name': 'User Two', 'project_id': 'proj_003', 'created_on': 1622548802, 'description': 'This is a test project.', 'active': True, 'type': 'development', 'email': 'user2@example.com', 'status': 'closed'}, {'updated_on': 1622645202, 'projectname': 'Project Theta', 'owner_name': 'User Two', 'project_id': 'proj_004', 'created_on': 1622548804, 'description': 'This is a test project.', 'active': True, 'type': 'development', 'email': 'user2@example.com', 'status': 'closed'}, {'updated_on': 1622645201, 'projectname': 'Project Beta', 'owner_name': 'User One', 'project_id': 'proj_002', 'created_on': 1622548801, 'description': 'This is a test project.', 'active': True, 'type': 'development', 'email': 'user1@example.com', 'status': 'ongoing'}]}\n"
     ]
    }
   ],
   "source": [
    "import requests\n",
    "\n",
    "# promanager = \"127.0.0.1:8080\"\n",
    "promanager = \"promanager-v1-b1f0addf3fcb.herokuapp.com\"\n",
    "def getAllUserProjects(user_id):\n",
    "  \n",
    "    url = f\"http://{promanager}/apiv1/user/getalluserprojects/{user_id}\"\n",
    "  \n",
    "    headers = {\"Content-Type\": \"application/json\"}\n",
    "    r = requests.get(url, headers=headers)\n",
    "    # print(r.status_code)\n",
    "    if r.status_code == 200:\n",
    "        print(r.json())\n",
    "    else:\n",
    "        print(f\"Error: {r.status_code}, {r.text}\")\n",
    "\n",
    "user_id = \"1\"  # Ensure user_id is a string for URL concatenation\n",
    "getAllUserProjects(user_id)"
   ]
  },
  {
   "cell_type": "code",
   "execution_count": 92,
   "id": "71992a76",
   "metadata": {},
   "outputs": [
    {
     "name": "stdout",
     "output_type": "stream",
     "text": [
      "{'project_members': [{'ROLE': 'Collaborator', 'projectname': 'Project Beta', 'project_owner_name': 'User One', 'project_id': 'proj_002', 'project_user_id': 1, 'project_user_name': 'User Two', 'description': 'This is a test project.', 'project_owner_id': 123}, {'ROLE': 'Viewer', 'projectname': 'Project Beta', 'project_owner_name': 'User One', 'project_id': 'proj_002', 'project_user_id': 1, 'project_user_name': 'User Two', 'description': 'This is a test project.', 'project_owner_id': 123}]}\n"
     ]
    }
   ],
   "source": [
    "import requests\n",
    "\n",
    "# promanager = \"127.0.0.1:8080\"\n",
    "promanager = \"promanager-v1-b1f0addf3fcb.herokuapp.com\"\n",
    "def getAllUserProjects(project_id):\n",
    "  \n",
    "    url = f\"http://{promanager}/apiv1/user/getallprojectmembers/{project_id}\"\n",
    "  \n",
    "    headers = {\"Content-Type\": \"application/json\"}\n",
    "    r = requests.get(url, headers=headers)\n",
    "    # print(r.status_code)\n",
    "    if r.status_code == 200:\n",
    "        print(r.json())\n",
    "    else:\n",
    "        print(f\"Error: {r.status_code}, {r.text}\")\n",
    "\n",
    "project_id = \"proj_002\"  # Ensure user_id is a string for URL concatenation\n",
    "getAllUserProjects(project_id)"
   ]
  },
  {
   "cell_type": "code",
   "execution_count": 77,
   "id": "a2de7afc",
   "metadata": {},
   "outputs": [],
   "source": [
    "## Add collaborator to the project"
   ]
  },
  {
   "cell_type": "code",
   "execution_count": 86,
   "id": "529729d7",
   "metadata": {},
   "outputs": [
    {
     "name": "stdout",
     "output_type": "stream",
     "text": [
      "200\n"
     ]
    }
   ],
   "source": [
    "## Add Collaborator\n",
    "\n",
    "import requests\n",
    "\n",
    "# promanager = \"127.0.0.1:8080\"\n",
    "promanager = \"promanager-v1-b1f0addf3fcb.herokuapp.com\"\n",
    "\n",
    "data = {'project_member':  [ {\n",
    "   'PROJECT_USER_ID': 6,\n",
    "\n",
    "   'PROJECT_ID':'proj_002',\n",
    "   'USER_ID': 1,\n",
    "   'ROLE': 'Viewer',\n",
    "   'created_at': 1718390619,  \n",
    "   'updated_at': 1718390619}\n",
    "  ]\n",
    " }\n",
    "def addProjectMembers(data):\n",
    "    headers={\"Content-Type\":\"application/json\"}\n",
    "    r= requests.post(url=\"http://\"+promanager+\"/apiv1/user/projectmember/\",data=json.dumps(data),headers=headers)\n",
    "    print(r.status_code)\n",
    "\n",
    "addProjectMembers(data)"
   ]
  },
  {
   "cell_type": "code",
   "execution_count": 37,
   "id": "af7e0b45",
   "metadata": {},
   "outputs": [
    {
     "name": "stdout",
     "output_type": "stream",
     "text": [
      "{'comments': [{'comments': 'This is a second comment', 'project_id': 'proj_001', 'user_id': 1, 'created_on': '2024-06-15T13:40:48.752+00:00', 'comment_id': 1}]}\n"
     ]
    }
   ],
   "source": [
    "import requests\n",
    "\n",
    "promanager = \"127.0.0.1:8080\"\n",
    "# promanager = \"promanager-v1-b1f0addf3fcb.herokuapp.com\"\n",
    "def getAllProjectComments(proj_id):\n",
    "  \n",
    "    url = f\"http://{promanager}/api/comments/getallcomments/{proj_id}\"\n",
    "  \n",
    "    headers = {\"Content-Type\": \"application/json\"}\n",
    "    r = requests.get(url, headers=headers)\n",
    "    # print(r.status_code)\n",
    "    if r.status_code == 200:\n",
    "        print(r.json())\n",
    "    else:\n",
    "        print(f\"Error: {r.status_code}, {r.text}\")\n",
    "\n",
    "proj_id = \"proj_001\"  # Ensure user_id is a string for URL concatenation\n",
    "getAllProjectComments(proj_id)"
   ]
  },
  {
   "cell_type": "code",
   "execution_count": null,
   "id": "9a61efc5",
   "metadata": {},
   "outputs": [],
   "source": [
    "## Comment Add\n",
    "data = {'comments':  [ \n",
    "  {'project_id': 'proj_001',\n",
    "   'comments': 'Test comment Edit',   \n",
    "   'user_id':1}\n",
    "  \n",
    "  ]\n",
    " }\n",
    "\n",
    "\n",
    "promanager = \"127.0.0.1:8080\"\n",
    "def addNewProjects(data):\n",
    "    headers={\"Content-Type\":\"application/json\"}\n",
    "    r= requests.post(url=\"http://\"+promanager+\"/api/comments/addcomment/\",data=json.dumps(data),headers=headers)\n",
    "    print(r.status_code)\n",
    "\n",
    "addNewProjects(data)\n"
   ]
  }
 ],
 "metadata": {
  "kernelspec": {
   "display_name": "Python 3 (ipykernel)",
   "language": "python",
   "name": "python3"
  },
  "language_info": {
   "codemirror_mode": {
    "name": "ipython",
    "version": 3
   },
   "file_extension": ".py",
   "mimetype": "text/x-python",
   "name": "python",
   "nbconvert_exporter": "python",
   "pygments_lexer": "ipython3",
   "version": "3.11.4"
  }
 },
 "nbformat": 4,
 "nbformat_minor": 5
}
