{
 "cells": [
  {
   "cell_type": "code",
   "execution_count": 66,
   "id": "8b7fd76a",
   "metadata": {},
   "outputs": [],
   "source": [
    "import requests\n",
    "import json"
   ]
  },
  {
   "cell_type": "code",
   "execution_count": 67,
   "id": "1793a95a",
   "metadata": {},
   "outputs": [],
   "source": [
    "# Project Create \n",
    "promanager = \"127.0.0.1:82\""
   ]
  },
  {
   "cell_type": "code",
   "execution_count": 78,
   "id": "79e3ec3b",
   "metadata": {},
   "outputs": [
    {
     "name": "stdout",
     "output_type": "stream",
     "text": [
      "{'projects': [['proj_001', 'Project Alpha', 123, True, 'This is a test project.', 1622548800, 1622645200, 'ongoing', 'development'], ['proj_002', 'Project Beta', 123, True, 'This is a test project.', 1622548801, 1622645201, 'ongoing', 'development'], ['proj_003', 'Proeject Gamma', 1, True, 'This is a test project.', 1622548802, 1622645201, 'closed', 'development'], ['proj_004', 'Project Theta', 1, True, 'This is a test project.', 1622548804, 1622645202, 'closed', 'development']]}\n"
     ]
    }
   ],
   "source": [
    "## Get All the Existing Projects\n",
    "\n",
    "import requests\n",
    "\n",
    "promanager = \"127.0.0.1:82\"\n",
    "\n",
    "def getAllProjects():\n",
    "  \n",
    "    url = f\"http://{promanager}/apiv1/project/getallprojects\"\n",
    "  \n",
    "    headers = {\"Content-Type\": \"application/json\"}\n",
    "    r = requests.get(url, headers=headers)\n",
    "    # print(r.status_code)\n",
    "    if r.status_code == 200:\n",
    "        print(r.json())\n",
    "    else:\n",
    "        print(f\"Error: {r.status_code}, {r.text}\")\n",
    "\n",
    "# user_id = \"3\"  # Ensure user_id is a string for URL concatenation\n",
    "getAllProjects()"
   ]
  },
  {
   "cell_type": "code",
   "execution_count": 7,
   "id": "a8095d0c",
   "metadata": {},
   "outputs": [],
   "source": [
    "## Get All the Projects details (Project ID wise)"
   ]
  },
  {
   "cell_type": "code",
   "execution_count": 75,
   "id": "e29527a1",
   "metadata": {},
   "outputs": [
    {
     "name": "stdout",
     "output_type": "stream",
     "text": [
      "{'project': [['project005', 'Project 5 test for Edit', 'User Two', True, 'Edited the project', 1718088484, 1718088484, 'ongoing', 'development']]}\n"
     ]
    }
   ],
   "source": [
    "import requests\n",
    "\n",
    "promanager = \"127.0.0.1:82\"\n",
    "\n",
    "def getAllUserProjects(id):\n",
    "  \n",
    "    url = f\"http://{promanager}/apiv1/project/getIdWiseProject/{id}\"\n",
    "  \n",
    "    headers = {\"Content-Type\": \"application/json\"}\n",
    "    r = requests.get(url, headers=headers)\n",
    "    # print(r.status_code)\n",
    "    if r.status_code == 200:\n",
    "        print(r.json())\n",
    "    else:\n",
    "        print(f\"Error: {r.status_code}, {r.text}\")\n",
    "\n",
    "proj_id = \"project005\"  # Ensure user_id is a string for URL concatenation\n",
    "getAllUserProjects(proj_id)"
   ]
  },
  {
   "cell_type": "code",
   "execution_count": 11,
   "id": "e06d4240",
   "metadata": {},
   "outputs": [
    {
     "name": "stdout",
     "output_type": "stream",
     "text": [
      "timestamp = 1718088484\n"
     ]
    }
   ],
   "source": [
    "from datetime import datetime\n",
    "\n",
    "timestamp = datetime.timestamp(now)\n",
    "print(\"timestamp =\", int(timestamp))"
   ]
  },
  {
   "cell_type": "code",
   "execution_count": 9,
   "id": "9dc559df",
   "metadata": {},
   "outputs": [],
   "source": [
    "## ADD Project New Project "
   ]
  },
  {
   "cell_type": "code",
   "execution_count": 70,
   "id": "b705557a",
   "metadata": {},
   "outputs": [],
   "source": [
    "data = {'projects':  [ \n",
    "  {'project_id': 'project005',\n",
    "   'projectname': 'Project 5 test for Edit',      \n",
    "   'description':\"This is Project 5 will be used for editing\",\n",
    "   'owner_id': int(1),\n",
    "   'created_on': 1718088484,\n",
    "   'updated_on': 1718088484,\n",
    "   'status': 'ongoing',\n",
    "   'type': 'development',\n",
    "   'active':True}\n",
    "   ,\n",
    "  {'project_id': 'project006',\n",
    "   'projectname': 'Project 6 test Safe Delete',      \n",
    "   'description':\"This is Project 5 will be safe for delete\",\n",
    "   'owner_id': int(1),\n",
    "   'created_on': 1718088484,\n",
    "   'updated_on': 1718088484,\n",
    "   'status': 'ongoing',\n",
    "   'type': 'development',\n",
    "   'active':True}\n",
    "  ]\n",
    " }\n",
    "# data"
   ]
  },
  {
   "cell_type": "code",
   "execution_count": 71,
   "id": "984e908f",
   "metadata": {},
   "outputs": [
    {
     "name": "stdout",
     "output_type": "stream",
     "text": [
      "200\n"
     ]
    }
   ],
   "source": [
    "def addNewProjects(data):\n",
    "    headers={\"Content-Type\":\"application/json\"}\n",
    "    r= requests.post(url=\"http://\"+promanager+\"/apiv1/project/addprojects/\",data=json.dumps(data),headers=headers)\n",
    "    print(r.status_code)\n",
    "\n",
    "addNewProjects(data)"
   ]
  },
  {
   "cell_type": "code",
   "execution_count": null,
   "id": "d2e59a36",
   "metadata": {},
   "outputs": [],
   "source": [
    "## Edit Existing Project "
   ]
  },
  {
   "cell_type": "code",
   "execution_count": 73,
   "id": "3df048c2",
   "metadata": {},
   "outputs": [
    {
     "name": "stdout",
     "output_type": "stream",
     "text": [
      "200\n"
     ]
    }
   ],
   "source": [
    "# Project Edit\n",
    "update_data = {'project_id': 'project005',\n",
    "   'projectname': 'Project 5 test for Edit',      \n",
    "   'description':\"Edited the project\",\n",
    "   'owner_id': int(1),\n",
    "   'updated_on': 1718088484,\n",
    "   'status': 'ongoing',\n",
    "   'type': 'development'\n",
    "   }\n",
    "\n",
    "\n",
    "def update_project_data(data):\n",
    "    headers = {\"Content-Type\": \"application/json\"}\n",
    "    r = requests.post(\n",
    "        url=\"http://\" + promanager + \"/apiv1/project/editProject\",\n",
    "        data=json.dumps(data),\n",
    "        headers=headers,\n",
    "    )\n",
    "    print(r.status_code)\n",
    "\n",
    "\n",
    "update_project_data(update_data)"
   ]
  },
  {
   "cell_type": "code",
   "execution_count": 48,
   "id": "b3cfb3fe",
   "metadata": {},
   "outputs": [],
   "source": [
    "## Delete Project "
   ]
  },
  {
   "cell_type": "code",
   "execution_count": 76,
   "id": "db4d5fe4",
   "metadata": {},
   "outputs": [
    {
     "name": "stdout",
     "output_type": "stream",
     "text": [
      "Status Code: 200\n",
      "Project deleted successfully.\n"
     ]
    }
   ],
   "source": [
    "import requests\n",
    "\n",
    "def deleteProject(project_id):\n",
    "    headers = {\"Content-Type\": \"application/json\"}\n",
    "    url = f\"http://{promanager}/apiv1/project/deleteproject/{project_id}\"\n",
    "    r = requests.delete(url, headers=headers)\n",
    "    print(f\"Status Code: {r.status_code}\")\n",
    "    if r.status_code == 200:\n",
    "        print(\"Project deleted successfully.\")\n",
    "    else:\n",
    "        print(f\"Failed to delete project: {r.text}\")\n",
    "\n",
    "# Example usage\n",
    "project_id = \"project006\" \n",
    "deleteProject(project_id)"
   ]
  },
  {
   "cell_type": "code",
   "execution_count": 77,
   "id": "9867629a",
   "metadata": {},
   "outputs": [
    {
     "name": "stdout",
     "output_type": "stream",
     "text": [
      "Status Code: 200\n",
      "Project deleted successfully.\n"
     ]
    }
   ],
   "source": [
    "\n",
    "project_id = \"project005\"  # Replace with the actual project ID\n",
    "deleteProject(project_id)"
   ]
  },
  {
   "cell_type": "code",
   "execution_count": 61,
   "id": "6dcd5e1c",
   "metadata": {},
   "outputs": [],
   "source": [
    "# Getting all the tasks"
   ]
  },
  {
   "cell_type": "code",
   "execution_count": 88,
   "id": "108cea60",
   "metadata": {},
   "outputs": [
    {
     "name": "stdout",
     "output_type": "stream",
     "text": [
      "{'tasks': [['proj_002', 'Project Beta', 'task_2', 'Task 1 Create', 'Task description 2', 'To Do', 'Medium', 1622548800, 'User One'], ['proj_002', 'Project Beta', 'task_10', 'Task 10 Test', 'Task 10 Test', 'To Do', 'Low', 1717941368, 'User Two']]}\n"
     ]
    }
   ],
   "source": [
    "import requests\n",
    "\n",
    "promanager = \"127.0.0.1:82\"\n",
    "\n",
    "def getAllUserProjects(projectid):\n",
    "  \n",
    "    url = f\"http://{promanager}/apiv1/task/project/getalltasks/{projectid}\"\n",
    "  \n",
    "    headers = {\"Content-Type\": \"application/json\"}\n",
    "    r = requests.get(url, headers=headers)\n",
    "    # print(r.status_code)\n",
    "    if r.status_code == 200:\n",
    "        print(r.json())\n",
    "    else:\n",
    "        print(f\"Error: {r.status_code}, {r.text}\")\n",
    "\n",
    "proj_id = \"proj_002\"  # Ensure user_id is a string for URL concatenation\n",
    "getAllUserProjects(proj_id)"
   ]
  },
  {
   "cell_type": "code",
   "execution_count": 81,
   "id": "4f6ddfb7",
   "metadata": {},
   "outputs": [],
   "source": [
    "## Adding Tasks"
   ]
  },
  {
   "cell_type": "code",
   "execution_count": 82,
   "id": "7847bbc3",
   "metadata": {},
   "outputs": [],
   "source": [
    "\n",
    "import requests\n",
    "\n",
    "promanager = \"127.0.0.1:82\""
   ]
  },
  {
   "cell_type": "code",
   "execution_count": 85,
   "id": "05045eea",
   "metadata": {},
   "outputs": [],
   "source": [
    "data = {'tasks':  [ {'task_id': 'task_10',\n",
    "   'project_id': 'proj_002',\n",
    "   'task_name': 'Task 10 Test',\n",
    "   'description': 'Task 10 Test',\n",
    "   'status':\"To Do\",\n",
    "   'priority': 'Low',\n",
    "   'assigned_user_id': 1,\n",
    "   'due_date': 1749477368,\n",
    "   'created_on': 1717941368,  \n",
    "   'updated_on': 1717941368,}\n",
    "  ]\n",
    " }"
   ]
  },
  {
   "cell_type": "code",
   "execution_count": 86,
   "id": "c618f45b",
   "metadata": {},
   "outputs": [
    {
     "name": "stdout",
     "output_type": "stream",
     "text": [
      "200\n"
     ]
    }
   ],
   "source": [
    "def sendProjectTaskreport(data):\n",
    "    headers={\"Content-Type\":\"application/json\"}\n",
    "    r= requests.post(url=\"http://\"+promanager+\"/apiv1/task/project/addtasks\",data=json.dumps(data),headers=headers)\n",
    "    print(r.status_code)\n",
    "\n",
    "sendProjectTaskreport(data)"
   ]
  },
  {
   "cell_type": "code",
   "execution_count": null,
   "id": "b880d5a1",
   "metadata": {},
   "outputs": [],
   "source": []
  },
  {
   "cell_type": "markdown",
   "id": "39d203a3",
   "metadata": {},
   "source": [
    "#### Method: findAllUserProjects\n",
    "\n",
    "Retrieves a list of projects associated with a specific user, either as an owner or a member.\n",
    "\n",
    "**Parameters:**\n",
    "- `user_id`: The ID of the user for whom the projects are to be retrieved.\n",
    "\n",
    "**Returns:**\n",
    "- A list of Object arrays, each representing a project with the following details:\n",
    "  - Project ID\n",
    "  - Project name\n",
    "  - Project description\n",
    "  - Project owner's name\n",
    "  - Project owner's email\n",
    "  - Project creation date : Timestamp\n",
    "  - Project last updated date : Timestamp\n",
    "  - Project status\n",
    "  - Project type\n",
    "  - Project active status\n",
    "  \n",
    "  If an exception occurs during the query execution, an empty list is returned.\n"
   ]
  },
  {
   "cell_type": "code",
   "execution_count": 91,
   "id": "2587e86c",
   "metadata": {},
   "outputs": [
    {
     "name": "stdout",
     "output_type": "stream",
     "text": [
      "{'user_projects': [['proj_001', 'Project Alpha', 'This is a test project.', 'User One', 'user1@example.com', 1622548800, 1622645200, 'ongoing', 'development', True]]}\n"
     ]
    }
   ],
   "source": [
    "import requests\n",
    "\n",
    "promanager = \"127.0.0.1:82\"\n",
    "\n",
    "def getAllUserProjects(user_id):\n",
    "  \n",
    "    url = f\"http://{promanager}/apiv1/user/getalluserprojects/{user_id}\"\n",
    "  \n",
    "    headers = {\"Content-Type\": \"application/json\"}\n",
    "    r = requests.get(url, headers=headers)\n",
    "    # print(r.status_code)\n",
    "    if r.status_code == 200:\n",
    "        print(r.json())\n",
    "    else:\n",
    "        print(f\"Error: {r.status_code}, {r.text}\")\n",
    "\n",
    "user_id = \"3\"  # Ensure user_id is a string for URL concatenation\n",
    "getAllUserProjects(user_id)"
   ]
  },
  {
   "cell_type": "code",
   "execution_count": null,
   "id": "71992a76",
   "metadata": {},
   "outputs": [],
   "source": []
  },
  {
   "cell_type": "code",
   "execution_count": null,
   "id": "a2de7afc",
   "metadata": {},
   "outputs": [],
   "source": []
  }
 ],
 "metadata": {
  "kernelspec": {
   "display_name": "Python 3 (ipykernel)",
   "language": "python",
   "name": "python3"
  },
  "language_info": {
   "codemirror_mode": {
    "name": "ipython",
    "version": 3
   },
   "file_extension": ".py",
   "mimetype": "text/x-python",
   "name": "python",
   "nbconvert_exporter": "python",
   "pygments_lexer": "ipython3",
   "version": "3.11.4"
  }
 },
 "nbformat": 4,
 "nbformat_minor": 5
}
