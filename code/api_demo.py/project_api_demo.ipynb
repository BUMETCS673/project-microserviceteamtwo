{
 "cells": [
  {
   "cell_type": "code",
   "execution_count": 1,
   "id": "8b7fd76a",
   "metadata": {},
   "outputs": [
    {
     "name": "stderr",
     "output_type": "stream",
     "text": [
      "/Users/pranjal/anaconda3/lib/python3.11/site-packages/pandas/core/arrays/masked.py:60: UserWarning: Pandas requires version '1.3.6' or newer of 'bottleneck' (version '1.3.5' currently installed).\n",
      "  from pandas.core import (\n"
     ]
    }
   ],
   "source": [
    "import requests\n",
    "import json"
   ]
  },
  {
   "cell_type": "code",
   "execution_count": null,
   "id": "1793a95a",
   "metadata": {},
   "outputs": [],
   "source": [
    "# Project Create \n",
    "promanager = \"127.0.0.1:82\""
   ]
  },
  {
   "cell_type": "code",
   "execution_count": 24,
   "id": "b705557a",
   "metadata": {},
   "outputs": [],
   "source": [
    "data = {'projects':  [ {'projectid': 'project003',\n",
    "   'projectname': 'W1A206-8286-42A-SN2109F9W',\n",
    "   'userid': 'user1',\n",
    "   'taskid': 24,\n",
    "   'description':\"test 2\",\n",
    "   'created_on': 1622548800,\n",
    "   'updated_on': 1622548800,\n",
    "   'state': 'operating',\n",
    "   'type': 'development'},\n",
    "  {'projectid': 'project005',\n",
    "   'projectname': 'W1A206-8286-42A-SN2109F9W',\n",
    "   'userid': 'user1',\n",
    "   'taskid': 24,\n",
    "   'description':\"test 2\",\n",
    "   'created_on': 1622548800,\n",
    "   'updated_on': 1622548800,\n",
    "   'state': 'operating',\n",
    "   'type': 'development'}\n",
    "  ]\n",
    " }\n",
    "# data"
   ]
  },
  {
   "cell_type": "code",
   "execution_count": 19,
   "id": "984e908f",
   "metadata": {},
   "outputs": [
    {
     "name": "stdout",
     "output_type": "stream",
     "text": [
      "200\n"
     ]
    }
   ],
   "source": [
    "def sendreportcompute(data):\n",
    "    headers={\"Content-Type\":\"application/json\"}\n",
    "    r= requests.post(url=\"http://\"+promanager+\"/apiv1/project/addprojects\",data=json.dumps(data),headers=headers)\n",
    "    print(r.status_code)\n",
    "\n",
    "sendreportcompute(data)"
   ]
  },
  {
   "cell_type": "code",
   "execution_count": 20,
   "id": "9867629a",
   "metadata": {},
   "outputs": [],
   "source": [
    "# Task Edit"
   ]
  },
  {
   "cell_type": "code",
   "execution_count": 12,
   "id": "7847bbc3",
   "metadata": {},
   "outputs": [],
   "source": [
    "promanager = \"127.0.0.1:82\""
   ]
  },
  {
   "cell_type": "code",
   "execution_count": 22,
   "id": "05045eea",
   "metadata": {},
   "outputs": [],
   "source": [
    "data = {'tasks':  [ {'task_id': 'task_7',\n",
    "   'project_id': 'proj_001',\n",
    "   'task_name': 'Task 7 Test',\n",
    "   'description': 'Task 3 Test',\n",
    "   'status':\"To Do\",\n",
    "   'priority': 'Low',\n",
    "   'assigned_user_id': 1,\n",
    "   'due_date': 1749477368,\n",
    "   'created_on': 1717941368,  \n",
    "   'updated_on': 1717941368,}\n",
    "  \n",
    "  ]\n",
    " }\n",
    "# data\n"
   ]
  },
  {
   "cell_type": "code",
   "execution_count": 23,
   "id": "b880d5a1",
   "metadata": {},
   "outputs": [
    {
     "name": "stdout",
     "output_type": "stream",
     "text": [
      "200\n"
     ]
    }
   ],
   "source": [
    "def sendProjectTaskreport(data):\n",
    "    headers={\"Content-Type\":\"application/json\"}\n",
    "    r= requests.post(url=\"http://\"+promanager+\"/apiv1/task/project/addtasks\",data=json.dumps(data),headers=headers)\n",
    "    print(r.status_code)\n",
    "\n",
    "sendProjectTaskreport(data)"
   ]
  },
  {
   "cell_type": "markdown",
   "id": "39d203a3",
   "metadata": {},
   "source": [
    "#### Method: findAllUserProjects\n",
    "\n",
    "Retrieves a list of projects associated with a specific user, either as an owner or a member.\n",
    "\n",
    "**Parameters:**\n",
    "- `user_id`: The ID of the user for whom the projects are to be retrieved.\n",
    "\n",
    "**Returns:**\n",
    "- A list of Object arrays, each representing a project with the following details:\n",
    "  - Project ID\n",
    "  - Project name\n",
    "  - Project description\n",
    "  - Project owner's name\n",
    "  - Project owner's email\n",
    "  - Project creation date : Timestamp\n",
    "  - Project last updated date : Timestamp\n",
    "  - Project status\n",
    "  - Project type\n",
    "  - Project active status\n",
    "  \n",
    "  If an exception occurs during the query execution, an empty list is returned.\n"
   ]
  },
  {
   "cell_type": "code",
   "execution_count": 30,
   "id": "2587e86c",
   "metadata": {},
   "outputs": [
    {
     "name": "stdout",
     "output_type": "stream",
     "text": [
      "{'user_projects': [['proj_001', 'Project Alpha', 'This is a test project.', 'User One', 'user1@example.com', 1622548800, 1622645200, 'ongoing', 'development', True]]}\n"
     ]
    }
   ],
   "source": [
    "import requests\n",
    "\n",
    "promanager = \"127.0.0.1:82\"\n",
    "\n",
    "def getAllUserProjects(user_id):\n",
    "  \n",
    "    url = f\"http://{promanager}/apiv1/user/getalluserprojects/{user_id}\"\n",
    "  \n",
    "    headers = {\"Content-Type\": \"application/json\"}\n",
    "    r = requests.get(url, headers=headers)\n",
    "    # print(r.status_code)\n",
    "    if r.status_code == 200:\n",
    "        print(r.json())\n",
    "    else:\n",
    "        print(f\"Error: {r.status_code}, {r.text}\")\n",
    "\n",
    "user_id = \"3\"  # Ensure user_id is a string for URL concatenation\n",
    "getAllUserProjects(user_id)"
   ]
  },
  {
   "cell_type": "code",
   "execution_count": null,
   "id": "71992a76",
   "metadata": {},
   "outputs": [],
   "source": []
  }
 ],
 "metadata": {
  "kernelspec": {
   "display_name": "Python 3 (ipykernel)",
   "language": "python",
   "name": "python3"
  },
  "language_info": {
   "codemirror_mode": {
    "name": "ipython",
    "version": 3
   },
   "file_extension": ".py",
   "mimetype": "text/x-python",
   "name": "python",
   "nbconvert_exporter": "python",
   "pygments_lexer": "ipython3",
   "version": "3.11.4"
  }
 },
 "nbformat": 4,
 "nbformat_minor": 5
}
