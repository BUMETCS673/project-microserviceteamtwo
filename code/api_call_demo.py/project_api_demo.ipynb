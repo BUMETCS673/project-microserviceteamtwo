{
 "cells": [
  {
   "cell_type": "code",
   "execution_count": 1,
   "id": "8b7fd76a",
   "metadata": {},
   "outputs": [
    {
     "name": "stderr",
     "output_type": "stream",
     "text": [
      "/Users/pranjal/anaconda3/lib/python3.11/site-packages/pandas/core/arrays/masked.py:60: UserWarning: Pandas requires version '1.3.6' or newer of 'bottleneck' (version '1.3.5' currently installed).\n",
      "  from pandas.core import (\n"
     ]
    }
   ],
   "source": [
    "import requests\n",
    "import json"
   ]
  },
  {
   "cell_type": "code",
   "execution_count": null,
   "id": "1793a95a",
   "metadata": {},
   "outputs": [],
   "source": [
    "# Project Create \n",
    "capacitymgmt = \"127.0.0.1:82\""
   ]
  },
  {
   "cell_type": "code",
   "execution_count": 24,
   "id": "b705557a",
   "metadata": {},
   "outputs": [],
   "source": [
    "data = {'projects':  [ {'projectid': 'project003',\n",
    "   'projectname': 'W1A206-8286-42A-SN2109F9W',\n",
    "   'userid': 'user1',\n",
    "   'taskid': 24,\n",
    "   'description':\"test 2\",\n",
    "   'created_on': 1622548800,\n",
    "   'updated_on': 1622548800,\n",
    "   'state': 'operating',\n",
    "   'type': 'development'},\n",
    "  {'projectid': 'project005',\n",
    "   'projectname': 'W1A206-8286-42A-SN2109F9W',\n",
    "   'userid': 'user1',\n",
    "   'taskid': 24,\n",
    "   'description':\"test 2\",\n",
    "   'created_on': 1622548800,\n",
    "   'updated_on': 1622548800,\n",
    "   'state': 'operating',\n",
    "   'type': 'development'}\n",
    "  ]\n",
    " }\n",
    "# data"
   ]
  },
  {
   "cell_type": "code",
   "execution_count": 19,
   "id": "984e908f",
   "metadata": {},
   "outputs": [
    {
     "name": "stdout",
     "output_type": "stream",
     "text": [
      "200\n"
     ]
    }
   ],
   "source": [
    "def sendreportcompute(data):\n",
    "    headers={\"Content-Type\":\"application/json\"}\n",
    "    r= requests.post(url=\"http://\"+capacitymgmt+\"/apiv1/project/addprojects\",data=json.dumps(data),headers=headers)\n",
    "    print(r.status_code)\n",
    "\n",
    "sendreportcompute(data)"
   ]
  },
  {
   "cell_type": "code",
   "execution_count": 20,
   "id": "9867629a",
   "metadata": {},
   "outputs": [],
   "source": [
    "# Project Edit"
   ]
  }
 ],
 "metadata": {
  "kernelspec": {
   "display_name": "Python 3 (ipykernel)",
   "language": "python",
   "name": "python3"
  },
  "language_info": {
   "codemirror_mode": {
    "name": "ipython",
    "version": 3
   },
   "file_extension": ".py",
   "mimetype": "text/x-python",
   "name": "python",
   "nbconvert_exporter": "python",
   "pygments_lexer": "ipython3",
   "version": "3.11.4"
  }
 },
 "nbformat": 4,
 "nbformat_minor": 5
}
