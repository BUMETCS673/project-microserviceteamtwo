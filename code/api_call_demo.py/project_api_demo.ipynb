{
 "cells": [
  {
   "cell_type": "code",
   "execution_count": 3,
   "id": "8b7fd76a",
   "metadata": {},
   "outputs": [],
   "source": [
    "import requests\n",
    "import json"
   ]
  },
  {
   "cell_type": "code",
   "execution_count": 4,
   "id": "1793a95a",
   "metadata": {},
   "outputs": [],
   "source": [
    "# Project Create \n",
    "promanager = \"127.0.0.1:82\""
   ]
  },
  {
   "cell_type": "code",
   "execution_count": 6,
   "id": "b705557a",
   "metadata": {},
   "outputs": [],
   "source": [
    "data = {'projects':  [ {'projectid': 'project003',\n",
    "   'projectname': 'W1A206-8286-42A-SN2109F9W',\n",
    "   'userid': 'user1',\n",
    "   'taskid': 24,\n",
    "   'description':\"test 2\",\n",
    "   'created_on': 1622548800,\n",
    "   'updated_on': 1622548800,\n",
    "   'state': 'operating',\n",
    "   'type': 'development'},\n",
    "  {'projectid': 'project005',\n",
    "   'projectname': 'W1A206-8286-42A-SN2109F9W',\n",
    "   'userid': 'user1',\n",
    "   'taskid': 24,\n",
    "   'description':\"test 2\",\n",
    "   'created_on': 1622548800,\n",
    "   'updated_on': 1622548800,\n",
    "   'state': 'operating',\n",
    "   'type': 'development'}\n",
    "  ]\n",
    " }\n",
    "# data"
   ]
  },
  {
   "cell_type": "code",
   "execution_count": 7,
   "id": "984e908f",
   "metadata": {},
   "outputs": [
    {
     "name": "stdout",
     "output_type": "stream",
     "text": [
      "200\n"
     ]
    }
   ],
   "source": [
    "def sendreportcompute(data):\n",
    "    headers={\"Content-Type\":\"application/json\"}\n",
    "    r= requests.post(url=\"http://\"+capacitymgmt+\"/apiv1/project/addprojects\",data=json.dumps(data),headers=headers)\n",
    "    print(r.status_code)\n",
    "\n",
    "sendreportcompute(data)"
   ]
  },
  {
   "cell_type": "code",
   "execution_count": 12,
   "id": "9867629a",
   "metadata": {},
   "outputs": [
    {
     "name": "stdout",
     "output_type": "stream",
     "text": [
      "200\n"
     ]
    }
   ],
   "source": [
    "# Task Edit"
   ]
  },
  {
   "cell_type": "code",
   "execution_count": 12,
   "id": "7847bbc3",
   "metadata": {},
   "outputs": [],
   "source": [
    "promanager = \"127.0.0.1:82\""
   ]
  },
  {
   "cell_type": "code",
   "execution_count": 22,
   "id": "05045eea",
   "metadata": {},
   "outputs": [],
   "source": [
    "data = {'tasks':  [ {'task_id': 'task_7',\n",
    "   'project_id': 'proj_001',\n",
    "   'task_name': 'Task 7 Test',\n",
    "   'description': 'Task 3 Test',\n",
    "   'status':\"To Do\",\n",
    "   'priority': 'Low',\n",
    "   'assigned_user_id': 1,\n",
    "   'due_date': 1749477368,\n",
    "   'created_on': 1717941368,  \n",
    "   'updated_on': 1717941368,}\n",
    "  \n",
    "  ]\n",
    " }\n",
    "# data\n",
    "\n",
    "\n"
   ]
  },
  {
   "cell_type": "code",
   "execution_count": 23,
   "id": "b880d5a1",
   "metadata": {},
   "outputs": [
    {
     "name": "stdout",
     "output_type": "stream",
     "text": [
      "200\n"
     ]
    }
   ],
   "source": [
    "def sendProjectTaskreport(data):\n",
    "    headers={\"Content-Type\":\"application/json\"}\n",
    "    r= requests.post(url=\"http://\"+capacitymgmt+\"/apiv1/task/project/addtasks\",data=json.dumps(data),headers=headers)\n",
    "    print(r.status_code)\n",
    "\n",
    "sendProjectTaskreport(data)"
   ]
  },
  {
   "cell_type": "code",
   "execution_count": null,
   "id": "2587e86c",
   "metadata": {},
   "outputs": [],
   "source": []
  }
 ],
 "metadata": {
  "kernelspec": {
   "display_name": "Python 3 (ipykernel)",
   "language": "python",
   "name": "python3"
  },
  "language_info": {
   "codemirror_mode": {
    "name": "ipython",
    "version": 3
   },
   "file_extension": ".py",
   "mimetype": "text/x-python",
   "name": "python",
   "nbconvert_exporter": "python",
   "pygments_lexer": "ipython3",
   "version": "3.11.5"
  }
 },
 "nbformat": 4,
 "nbformat_minor": 5
}
